{
  "cells": [
    {
      "attachments": {},
      "cell_type": "markdown",
      "id": "35b75105",
      "metadata": {},
      "source": [
        "# Visualizing a PPI"
      ]
    },
    {
      "cell_type": "code",
      "execution_count": null,
      "id": "ebd61775",
      "metadata": {},
      "outputs": [],
      "source": [
        "import os\n",
        "import datetime\n",
        "import numpy as np\n",
        "\n",
        "from netCDF4 import Dataset\n",
        "\n",
        "import chart"
      ]
    },
    {
      "cell_type": "code",
      "execution_count": null,
      "id": "f00f99a5",
      "metadata": {},
      "outputs": [],
      "source": [
        "# file = os.path.expanduser('~/Downloads/data/moment-reg/20230130/PX-20230130-173637-E4.0-Z.nc')\n",
        "# file = os.path.expanduser('~/Downloads/PX-20170220-050706-E2.4-Z.nc')\n",
        "file = 'blob/PX-20170220-050706-E2.4-Z.nc'\n",
        "\n",
        "with Dataset(file, mode='r') as nc:\n",
        "    name = nc.getncattr('TypeName')\n",
        "    elev = np.array(nc.variables['Elevation'][:], dtype=np.float32)\n",
        "    azim = np.array(nc.variables['Azimuth'][:], dtype=np.float32)\n",
        "    gatewidth = np.array(nc.variables['GateWidth'][:], dtype=np.float32)\n",
        "    values = np.array(nc.variables[name][:], dtype=np.float32)\n",
        "    values[values < -90] = np.nan\n",
        "    longitude = nc.getncattr('Longitude')\n",
        "    latitude = nc.getncattr('Latitude')\n",
        "    sweepElev = nc.getncattr('Elevation')\n",
        "    sweepTime = nc.getncattr('Time')\n",
        "    symbol = file.split('.')[-2].split('-')[-1]"
      ]
    },
    {
      "attachments": {},
      "cell_type": "markdown",
      "id": "709bf13b",
      "metadata": {},
      "source": [
        "## Overlay for the Plot"
      ]
    },
    {
      "cell_type": "code",
      "execution_count": null,
      "id": "f94e89d3",
      "metadata": {},
      "outputs": [],
      "source": [
        "overlay = chart.atlas.Overlay((longitude, latitude))"
      ]
    },
    {
      "cell_type": "code",
      "execution_count": null,
      "id": "f0dbeb09",
      "metadata": {},
      "outputs": [],
      "source": [
        "radii = np.concatenate(([1.0], np.arange(10.0, 31.0, 10.0)))\n",
        "overlay.setRingRadii(radii)\n",
        "overlay.load()"
      ]
    },
    {
      "cell_type": "code",
      "execution_count": null,
      "id": "c30b1e65",
      "metadata": {},
      "outputs": [],
      "source": [
        "r = 1.0e-3 * np.arange(values.shape[1]) * gatewidth[0]\n",
        "a = np.deg2rad(azim)\n",
        "t = datetime.datetime.utcfromtimestamp(sweepTime)\n",
        "timestr = t.strftime('%Y/%m/%d %H:%M:%S')\n",
        "title = f'{timestr} UTC  EL: {sweepElev:.2f}°'\n",
        "symbol = 'Z'"
      ]
    },
    {
      "attachments": {},
      "cell_type": "markdown",
      "id": "d3af30a5",
      "metadata": {},
      "source": [
        "## Chart with Overlay"
      ]
    },
    {
      "cell_type": "code",
      "execution_count": null,
      "id": "52387ecc",
      "metadata": {},
      "outputs": [],
      "source": [
        "ppi = chart.chart.Image(a, r, values, style=symbol, overlay=overlay, title=title, figsize=(800, 600), maxrange=25.0)\n",
        "ppi.image()"
      ]
    },
    {
      "attachments": {},
      "cell_type": "markdown",
      "id": "501bb281",
      "metadata": {},
      "source": [
        "## Convenient Function to Populate Image"
      ]
    },
    {
      "cell_type": "code",
      "execution_count": null,
      "id": "0065b660",
      "metadata": {},
      "outputs": [],
      "source": [
        "def populateImage(file):\n",
        "    with Dataset(file, mode='r') as nc:\n",
        "        name = nc.getncattr('TypeName')\n",
        "        azim = np.array(nc.variables['Azimuth'][:], dtype=np.float32)\n",
        "        gatewidth = np.array(nc.variables['GateWidth'][:], dtype=np.float32)\n",
        "        values = np.array(nc.variables[name][:], dtype=np.float32)\n",
        "        values[values < -90] = np.nan\n",
        "        r = 1.0e-3 * np.arange(values.shape[1]) * gatewidth[0]\n",
        "        a = np.deg2rad(azim)\n",
        "        symbol = file.split('.')[-2].split('-')[-1]\n",
        "    ppi.set_data(values, style=symbol, a=a, r=r)"
      ]
    },
    {
      "attachments": {},
      "cell_type": "markdown",
      "id": "ebe85c4f",
      "metadata": {},
      "source": [
        "## More Images"
      ]
    },
    {
      "cell_type": "code",
      "execution_count": null,
      "id": "4e194463",
      "metadata": {
        "scrolled": false
      },
      "outputs": [],
      "source": [
        "populateImage(os.path.expanduser('blob/PX-20170220-050706-E2.4-V.nc'))\n",
        "ppi.image()"
      ]
    },
    {
      "cell_type": "code",
      "execution_count": null,
      "id": "07c2d285",
      "metadata": {
        "scrolled": false
      },
      "outputs": [],
      "source": [
        "populateImage(os.path.expanduser('blob/PX-20170220-050706-E2.4-D.nc'))\n",
        "ppi.image()"
      ]
    },
    {
      "cell_type": "code",
      "execution_count": null,
      "id": "eaef2648",
      "metadata": {},
      "outputs": [],
      "source": [
        "populateImage(os.path.expanduser('blob/PX-20170220-050706-E2.4-R.nc'))\n",
        "ppi.image()"
      ]
    },
    {
      "cell_type": "code",
      "execution_count": null,
      "id": "8c2843a0",
      "metadata": {},
      "outputs": [],
      "source": []
    }
  ],
  "metadata": {
    "kernelspec": {
      "display_name": "Python 3 (ipykernel)",
      "language": "python",
      "name": "python3"
    },
    "language_info": {
      "codemirror_mode": {
        "name": "ipython",
        "version": 3
      },
      "file_extension": ".py",
      "mimetype": "text/x-python",
      "name": "python",
      "nbconvert_exporter": "python",
      "pygments_lexer": "ipython3",
      "version": "3.8.11"
    },
    "vscode": {
      "interpreter": {
        "hash": "ff86aea76228f0881c91a29f9b471af60dcc0ee7f415accb27f2e08c6a88df9f"
      }
    }
  },
  "nbformat": 4,
  "nbformat_minor": 5
}
