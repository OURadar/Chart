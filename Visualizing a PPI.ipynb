{
 "cells": [
  {
   "cell_type": "markdown",
   "id": "35b75105",
   "metadata": {},
   "source": [
    "# Visualizing a PPI"
   ]
  },
  {
   "cell_type": "code",
   "execution_count": null,
   "id": "ebd61775",
   "metadata": {},
   "outputs": [],
   "source": [
    "import os\n",
    "import datetime\n",
    "import numpy as np\n",
    "\n",
    "from netCDF4 import Dataset\n",
    "\n",
    "import chart"
   ]
  },
  {
   "cell_type": "code",
   "execution_count": null,
   "id": "f00f99a5",
   "metadata": {},
   "outputs": [],
   "source": [
    "file =  os.path.expanduser('~/Downloads/PX-20170220-050706-E2.4-Z.nc')\n",
    "\n",
    "with Dataset(file, mode='r') as nc:\n",
    "    elev = np.array(nc.variables['Elevation'][:], dtype=np.float32)\n",
    "    azim = np.array(nc.variables['Azimuth'][:], dtype=np.float32)\n",
    "    gatewidth = np.array(nc.variables['GateWidth'][:], dtype=np.float32)\n",
    "    values = np.array(nc.variables['Corrected_Intensity'][:], dtype=np.float32)\n",
    "    longitude = nc.getncattr('Longitude')\n",
    "    latitude = nc.getncattr('Latitude')\n",
    "    sweepElev = nc.getncattr('Elevation')\n",
    "    sweepTime = nc.getncattr('Time')"
   ]
  },
  {
   "cell_type": "markdown",
   "id": "709bf13b",
   "metadata": {},
   "source": [
    "## Overlay for the Plot"
   ]
  },
  {
   "cell_type": "code",
   "execution_count": null,
   "id": "f94e89d3",
   "metadata": {},
   "outputs": [],
   "source": [
    "overlay = chart.atlas.Overlay((longitude, latitude))"
   ]
  },
  {
   "cell_type": "code",
   "execution_count": null,
   "id": "f0dbeb09",
   "metadata": {},
   "outputs": [],
   "source": [
    "radii = np.concatenate(([1.0], np.arange(10.0, 61.0, 10.0)))\n",
    "overlay.setRingRadii(radii)\n",
    "overlay.load()"
   ]
  },
  {
   "cell_type": "code",
   "execution_count": null,
   "id": "c30b1e65",
   "metadata": {},
   "outputs": [],
   "source": [
    "r = 1.0e-3 * np.arange(values.shape[1]) * gatewidth[0]\n",
    "a = np.deg2rad(azim)\n",
    "t = datetime.datetime.utcfromtimestamp(sweepTime)\n",
    "timestr = t.strftime('%Y/%m/%d %H:%M:%S')\n",
    "title = f'{timestr} UTC  EL: {elevation:.2f}°'\n",
    "symbol = 'Z'"
   ]
  },
  {
   "cell_type": "code",
   "execution_count": null,
   "id": "52387ecc",
   "metadata": {},
   "outputs": [],
   "source": [
    "ppi = chart.chart.Image(a, r, values, style=symbol, overlay=overlay, title=title, figsize=(800, 640), maxrange=50.0)"
   ]
  },
  {
   "cell_type": "code",
   "execution_count": null,
   "id": "23810b3e",
   "metadata": {},
   "outputs": [],
   "source": [
    "ppi.image()"
   ]
  },
  {
   "cell_type": "code",
   "execution_count": null,
   "id": "fa83a177",
   "metadata": {},
   "outputs": [],
   "source": []
  }
 ],
 "metadata": {
  "kernelspec": {
   "display_name": "Python 3 (ipykernel)",
   "language": "python",
   "name": "python3"
  },
  "language_info": {
   "codemirror_mode": {
    "name": "ipython",
    "version": 3
   },
   "file_extension": ".py",
   "mimetype": "text/x-python",
   "name": "python",
   "nbconvert_exporter": "python",
   "pygments_lexer": "ipython3",
   "version": "3.9.5"
  }
 },
 "nbformat": 4,
 "nbformat_minor": 5
}
