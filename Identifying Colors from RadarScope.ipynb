{
 "cells": [
  {
   "cell_type": "markdown",
   "id": "e1f42721",
   "metadata": {},
   "source": [
    "# Identifying Colors from RadarScope"
   ]
  },
  {
   "cell_type": "code",
   "execution_count": null,
   "id": "b8dc9303",
   "metadata": {},
   "outputs": [],
   "source": [
    "%matplotlib inline"
   ]
  },
  {
   "cell_type": "code",
   "execution_count": null,
   "id": "e11e2e46",
   "metadata": {},
   "outputs": [],
   "source": [
    "import blib\n",
    "\n",
    "import numpy as np\n",
    "\n",
    "import matplotlib\n",
    "import matplotlib.image\n",
    "import matplotlib.pyplot as plt\n",
    "\n",
    "import PIL\n",
    "\n",
    "np.set_printoptions(precision=4)"
   ]
  },
  {
   "cell_type": "code",
   "execution_count": null,
   "id": "a1a0d8b5",
   "metadata": {},
   "outputs": [],
   "source": [
    "def contain(small, big):\n",
    "    for s in big:\n",
    "        if all(small == s):\n",
    "            return True\n",
    "    return False\n",
    "\n",
    "def identify(file, oy='auto'):\n",
    "    cc = matplotlib.image.imread(file)\n",
    "    if oy == 'auto':\n",
    "        oy = cc.shape[0] - 16\n",
    "    im = np.zeros(cc.shape, dtype=np.uint8)\n",
    "    im[:] = cc[:] * 255.0\n",
    "\n",
    "    tab = []\n",
    "\n",
    "    for x in range(cc.shape[1])[1:-1]:\n",
    "        pix = im[oy, x, :]\n",
    "        if not contain(pix, tab):\n",
    "            tab.append(pix)\n",
    "    \n",
    "    return np.transpose(np.column_stack(tab))"
   ]
  },
  {
   "cell_type": "code",
   "execution_count": null,
   "id": "c65f339a",
   "metadata": {},
   "outputs": [],
   "source": [
    "cc = matplotlib.image.imread('blob/radarscope-z.png')\n",
    "im = np.zeros(cc.shape, dtype=np.uint8)\n",
    "im[:] = cc[:] * 255.0"
   ]
  },
  {
   "cell_type": "code",
   "execution_count": null,
   "id": "12481a43",
   "metadata": {},
   "outputs": [],
   "source": [
    "oy = 328\n",
    "\n",
    "tab = []\n",
    "\n",
    "for x in range(cc.shape[1])[1:-1]:\n",
    "    pix = im[oy, x, :]\n",
    "#     print(f'{x}: {pix}')\n",
    "    if not contain(pix, tab):\n",
    "        tab.append(pix)\n",
    "#     im[oy, x, :] = [0, 255, 0, 255]\n",
    "    cc[oy, x, :] = [0, 1.0, 0, 1.0]"
   ]
  },
  {
   "cell_type": "code",
   "execution_count": null,
   "id": "81b6f454",
   "metadata": {},
   "outputs": [],
   "source": [
    "# pim = PIL.Image.fromarray(im)\n",
    "# display(pim)\n",
    "\n",
    "# pim = PIL.Image.fromarray(np.array(cc * 255.0, dtype=np.uint8))\n",
    "# display(pim)"
   ]
  },
  {
   "cell_type": "code",
   "execution_count": null,
   "id": "642e8bb3",
   "metadata": {},
   "outputs": [],
   "source": [
    "z = identify('blob/radarscope-z.png')\n",
    "z.shape"
   ]
  },
  {
   "cell_type": "code",
   "execution_count": null,
   "id": "3767b0cf",
   "metadata": {},
   "outputs": [],
   "source": [
    "np.array(z[50:60, :], dtype=float) / 255.0"
   ]
  },
  {
   "cell_type": "code",
   "execution_count": null,
   "id": "bbfe9c3b",
   "metadata": {},
   "outputs": [],
   "source": [
    "def z2i(v):\n",
    "    return np.floor(v * 2 + 64) / 255.0"
   ]
  },
  {
   "cell_type": "code",
   "execution_count": null,
   "id": "da38ed20",
   "metadata": {},
   "outputs": [],
   "source": [
    "xp = [0, z2i(-15), z2i(-5), z2i(10), z2i(17.5), z2i(20), z2i(27.0), z2i(32), z2i(39.5),\n",
    "      z2i(40), z2i(49.5), z2i(50), z2i(59.5), z2i(60), z2i(69.5), z2i(70), z2i(79.5), z2i(80), z2i(89.5), z2i(90),\n",
    "      1]\n",
    "cp = [\n",
    "    [0.3725, 0.2118, 0.6118, 1.0],  # -32 dB    purple\n",
    "    [0.4157, 0.4039, 0.2078, 1.0],  # -15 dB    dark dirt\n",
    "    [0.6392, 0.6471, 0.5333, 1.0],  #  -5 dB    light dirt\n",
    "    [0.1647, 0.2431, 0.4431, 1.0],  #  10 dB    dark blue\n",
    "    [0.298 , 0.549 , 0.6196, 1.0],  #  17.5 dB  light blue\n",
    "    [0.1647, 0.6745, 0.2392, 1.0],  #  20.0 dB  green\n",
    "    [0.0627, 0.3294, 0.0392, 1.0],  #  27.0 dB  dark green\n",
    "    [0.9882, 1.    , 0.0392, 1.0],  #  32.0 dB  yellow\n",
    "    [0.7216, 0.651 , 0.0275, 1.0],  #  39.5 dB  dark yellow\n",
    "    [0.9647, 0.5059, 0.0314, 1.0],  #  40.0 dB  orange\n",
    "    [0.6314, 0.2706, 0.051 , 1.0],  #  49.5 dB  dark orange\n",
    "    [0.9569, 0.    , 0.051 , 1.0],  #  50.0 dB  red\n",
    "    [0.4275, 0.1059, 0.098 , 1.0],  #  59.5 dB  dark red\n",
    "    [0.7412, 0.5216, 0.6471, 1.0],  #  60.0 dB  pink\n",
    "    [0.698 , 0.    , 0.3725, 1.0],  #  69.5 dB  hot pink\n",
    "    [0.5255, 0.    , 0.8471, 1.0],  #  70.0 dB  purple\n",
    "    [0.1804, 0.    , 0.4745, 1.0],  #  79.5 dB  dark purple\n",
    "    [0.4627, 1.    , 1.    , 1.0],  #  80.0 dB  cyan\n",
    "    [0.2118, 0.3843, 0.4863, 1.0],  #  89.5 dB  dark cyan\n",
    "    [0.5569, 0.3176, 0.2235, 1.0],  #  90.0 dB  brown\n",
    "    [0.3686, 0.    , 0.0078, 1.0]   #           dark brown\n",
    "]\n",
    "zmap = blib.fleximap(256, xp, cp)"
   ]
  },
  {
   "cell_type": "code",
   "execution_count": null,
   "id": "7c16231d",
   "metadata": {},
   "outputs": [],
   "source": [
    "blib.colorspace(zmap)\n",
    "blib.colorspace(np.array(z, dtype=float) / 255.0)"
   ]
  },
  {
   "cell_type": "code",
   "execution_count": null,
   "id": "57a5521a",
   "metadata": {},
   "outputs": [],
   "source": [
    "# blib.colorspace(blib.zmapext())"
   ]
  },
  {
   "cell_type": "code",
   "execution_count": null,
   "id": "d2a4b9e3",
   "metadata": {},
   "outputs": [],
   "source": [
    "v = identify('blob/radarscope-v.png')\n",
    "v.shape"
   ]
  },
  {
   "cell_type": "code",
   "execution_count": null,
   "id": "d9f1b520",
   "metadata": {},
   "outputs": [],
   "source": [
    "w = identify('blob/radarscope-w.png')\n",
    "w.shape"
   ]
  },
  {
   "cell_type": "code",
   "execution_count": null,
   "id": "7c032c5e",
   "metadata": {},
   "outputs": [],
   "source": [
    "d = identify('blob/radarscope-d.png')\n",
    "d.shape"
   ]
  },
  {
   "cell_type": "code",
   "execution_count": null,
   "id": "f2920558",
   "metadata": {},
   "outputs": [],
   "source": [
    "np.array(d[150:180, :], dtype=float) / 255.0"
   ]
  },
  {
   "cell_type": "code",
   "execution_count": null,
   "id": "bc41b320",
   "metadata": {},
   "outputs": [],
   "source": [
    "def d2i(v):\n",
    "    return np.floor(v * 10 + 100) / 255.0"
   ]
  },
  {
   "cell_type": "code",
   "execution_count": null,
   "id": "fa24accb",
   "metadata": {},
   "outputs": [],
   "source": [
    "xp = [0, d2i(-4), d2i(0), d2i(0.5), d2i(1.0), d2i(1.5), d2i(2.0), d2i(2.5), d2i(3), d2i(4), d2i(5), d2i(6), d2i(8),\n",
    "      1]\n",
    "cp = [\n",
    "    [0.0   , 0.0   , 0.0   , 1.0],  # -X dB    black\n",
    "    [0.0   , 0.0   , 0.0   , 1.0],  # -4 dB    black\n",
    "    [0.7412, 0.7412, 0.7412, 1.0],  # 0        gray\n",
    "    [0.    , 0.    , 0.5255, 1.0],  # 0.5      dark blue\n",
    "    [0.1255, 0.5216, 0.7882, 1.0],  # 1.0\n",
    "    [0.251 , 1.    , 0.7843, 1.0],  # 1.5      cyan\n",
    "    [0.298 , 0.8471, 0.2706, 1.0],  # 2.0      green\n",
    "    [1.    , 1.    , 0.3059, 1.0],  # 2.5      yellow\n",
    "    [0.9922, 0.5412, 0.2235, 1.0],  # 3.0      orange\n",
    "    [0.8392, 0.    , 0.051 , 1.0],  # 4.0      red\n",
    "    [0.6118, 0.    , 0.0118, 1.0],  # 5.0      dark red\n",
    "    [0.9255, 0.3725, 0.6392, 1.0],  # 6.0      pink\n",
    "    [1.0   , 1.    , 1.    , 1. ],  # 8.0      white\n",
    "    [1.0   , 1.0   , 1.0   , 1.0]   #          white\n",
    "]\n",
    "dmap = blib.fleximap(256, xp, cp)"
   ]
  },
  {
   "cell_type": "code",
   "execution_count": null,
   "id": "45e64256",
   "metadata": {},
   "outputs": [],
   "source": [
    "blib.colorspace(dmap)\n",
    "blib.colorspace(np.array(d, dtype=float) / 255.0)"
   ]
  },
  {
   "cell_type": "code",
   "execution_count": null,
   "id": "b7cdc8ed",
   "metadata": {},
   "outputs": [],
   "source": []
  },
  {
   "cell_type": "code",
   "execution_count": null,
   "id": "f10c2009",
   "metadata": {},
   "outputs": [],
   "source": [
    "r = identify('blob/radarscope-r.png')\n",
    "r.shape"
   ]
  },
  {
   "cell_type": "code",
   "execution_count": null,
   "id": "8592a310",
   "metadata": {},
   "outputs": [],
   "source": [
    "plt.plot(d[:, 0])"
   ]
  },
  {
   "cell_type": "code",
   "execution_count": null,
   "id": "d9d95ddf",
   "metadata": {},
   "outputs": [],
   "source": []
  }
 ],
 "metadata": {
  "kernelspec": {
   "display_name": "Python 3 (ipykernel)",
   "language": "python",
   "name": "python3"
  },
  "language_info": {
   "codemirror_mode": {
    "name": "ipython",
    "version": 3
   },
   "file_extension": ".py",
   "mimetype": "text/x-python",
   "name": "python",
   "nbconvert_exporter": "python",
   "pygments_lexer": "ipython3",
   "version": "3.8.11"
  }
 },
 "nbformat": 4,
 "nbformat_minor": 5
}
