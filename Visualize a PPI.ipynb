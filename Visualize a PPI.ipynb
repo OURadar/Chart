{
 "cells": [
  {
   "cell_type": "markdown",
   "id": "35b75105",
   "metadata": {},
   "source": [
    "# Visualize a PPI"
   ]
  },
  {
   "cell_type": "code",
   "execution_count": null,
   "id": "ebd61775",
   "metadata": {
    "scrolled": true
   },
   "outputs": [],
   "source": [
    "import os\n",
    "import datetime\n",
    "import numpy as np\n",
    "\n",
    "from netCDF4 import Dataset\n",
    "\n",
    "import chart"
   ]
  },
  {
   "cell_type": "code",
   "execution_count": null,
   "id": "f00f99a5",
   "metadata": {
    "scrolled": true
   },
   "outputs": [],
   "source": [
    "# file = os.path.expanduser('~/Downloads/data/moment/20221208/RAXPOL-20221208-002501-E2.3-Z.nc')\n",
    "# file = os.path.expanduser('~/Downloads/data/moment-reg/20230130/PX-20230130-173637-E4.0-Z.nc')\n",
    "# file = os.path.expanduser('~/Downloads/data/moment-nt/20230605/PX-20230605-115953-E4.0-Z.nc')\n",
    "# file = os.path.expanduser('~/Downloads/PX-20170220-050706-E2.4-Z.nc')\n",
    "# file = 'blob/PX-20170220-050706-E2.4-Z.nc'\n",
    "\n",
    "file = os.path.expanduser('~/Downloads/data/moment-reg-noise/20230130/PX-20230130-173637-E4.0-Z.nc')\n",
    "\n",
    "with Dataset(file, mode='r') as nc:\n",
    "    name = nc.getncattr('TypeName')\n",
    "    elev = np.array(nc.variables['Elevation'][:], dtype=np.float32)\n",
    "    azim = np.array(nc.variables['Azimuth'][:], dtype=np.float32)\n",
    "    gatewidth = np.array(nc.variables['GateWidth'][:], dtype=np.float32)\n",
    "    values = np.array(nc.variables[name][:], dtype=np.float32)\n",
    "    values[values < -90] = np.nan\n",
    "    longitude = nc.getncattr('Longitude')\n",
    "    latitude = nc.getncattr('Latitude')\n",
    "    sweepElev = nc.getncattr('Elevation')\n",
    "    sweepTime = nc.getncattr('Time')\n",
    "    symbol = file.split('.')[-2].split('-')[-1]"
   ]
  },
  {
   "cell_type": "markdown",
   "id": "709bf13b",
   "metadata": {},
   "source": [
    "## Overlay for the Plot"
   ]
  },
  {
   "cell_type": "code",
   "execution_count": null,
   "id": "f94e89d3",
   "metadata": {
    "scrolled": true
   },
   "outputs": [],
   "source": [
    "overlay = chart.atlas.Overlay((longitude, latitude))"
   ]
  },
  {
   "cell_type": "code",
   "execution_count": null,
   "id": "f0dbeb09",
   "metadata": {
    "scrolled": true
   },
   "outputs": [],
   "source": [
    "radii = np.concatenate(([1.0], np.arange(10.0, 31.0, 10.0)))\n",
    "overlay.setRingRadii(radii)\n",
    "overlay.load()"
   ]
  },
  {
   "cell_type": "code",
   "execution_count": null,
   "id": "c30b1e65",
   "metadata": {
    "scrolled": true
   },
   "outputs": [],
   "source": [
    "r = 1.0e-3 * np.arange(values.shape[1]) * gatewidth[0]\n",
    "a = np.deg2rad(azim)\n",
    "t = datetime.datetime.utcfromtimestamp(sweepTime)\n",
    "timestr = t.strftime('%Y/%m/%d %H:%M:%S')\n",
    "title = f'{timestr} UTC  EL: {sweepElev:.2f}°'\n",
    "symbol = 'Z'"
   ]
  },
  {
   "cell_type": "markdown",
   "id": "d3af30a5",
   "metadata": {},
   "source": [
    "## Chart with Overlay"
   ]
  },
  {
   "cell_type": "code",
   "execution_count": null,
   "id": "52387ecc",
   "metadata": {
    "scrolled": false
   },
   "outputs": [],
   "source": [
    "ppi = chart.chart.Image(a, r, values, style=symbol, overlay=overlay, title=title, figsize=(800, 600), maxrange=25.0)\n",
    "ppi.image()"
   ]
  },
  {
   "cell_type": "markdown",
   "id": "a95dd894",
   "metadata": {},
   "source": [
    "## Convenient Function to Populate Image"
   ]
  },
  {
   "cell_type": "code",
   "execution_count": null,
   "id": "c4405611",
   "metadata": {
    "scrolled": true
   },
   "outputs": [],
   "source": [
    "def populateImage(file):\n",
    "    with Dataset(file, mode='r') as nc:\n",
    "        name = nc.getncattr('TypeName')\n",
    "        values = np.array(nc.variables[name][:], dtype=np.float32)\n",
    "        values[values < -90] = np.nan\n",
    "        symbol = file.split('.')[-2].split('-')[-1]\n",
    "    ppi.set_data(values, style=symbol)\n",
    "\n",
    "# def populateImage(file):\n",
    "#     with Dataset(file, mode='r') as nc:\n",
    "#         name = nc.getncattr('TypeName')\n",
    "#         values = np.array(nc.variables[name][:], dtype=np.float32)\n",
    "#         values[values < -90] = np.nan\n",
    "#         symbol = file.split('.')[-2].split('-')[-1]\n",
    "#         gatewidth = np.array(nc.variables['GateWidth'][:], dtype=np.float32)\n",
    "#         azim = np.array(nc.variables['Azimuth'][:], dtype=np.float32)\n",
    "#         r = 1.0e-3 * np.arange(values.shape[1]) * gatewidth[0]\n",
    "#         a = np.deg2rad(azim)\n",
    "#     ppi.set_data(values, style=symbol, a=a, r=r)\n",
    "\n",
    "# populateImage(os.path.expanduser('~/Downloads/data/moment/20230130/PX-20230130-173637-E4.0-Z.nc'))\n",
    "# populateImage(os.path.expanduser('~/Downloads/data/moment-ppc/20230130/PX-20230130-173637-E4.0-Z.nc'))\n",
    "# populateImage(os.path.expanduser('~/Downloads/data/moment/20221208/RAXPOL-20221208-002501-E2.3-V.nc'))"
   ]
  },
  {
   "cell_type": "markdown",
   "id": "ebe85c4f",
   "metadata": {},
   "source": [
    "## More Images"
   ]
  },
  {
   "cell_type": "code",
   "execution_count": null,
   "id": "4e194463",
   "metadata": {
    "scrolled": false
   },
   "outputs": [],
   "source": [
    "populateImage(os.path.expanduser('~/Downloads/data/moment/20230130/PX-20230130-173637-E4.0-Z.nc'))\n",
    "ppi.image()"
   ]
  },
  {
   "cell_type": "code",
   "execution_count": null,
   "id": "8dc4795c",
   "metadata": {
    "scrolled": false
   },
   "outputs": [],
   "source": [
    "# populateImage(os.path.expanduser('~/Downloads/data/moment-nt/20230605/PX-20230605-115953-E4.0-Z.nc')); ppi.image()"
   ]
  },
  {
   "cell_type": "code",
   "execution_count": null,
   "id": "c827874d",
   "metadata": {},
   "outputs": [],
   "source": []
  }
 ],
 "metadata": {
  "kernelspec": {
   "display_name": "Python 3 (ipykernel)",
   "language": "python",
   "name": "python3"
  },
  "language_info": {
   "codemirror_mode": {
    "name": "ipython",
    "version": 3
   },
   "file_extension": ".py",
   "mimetype": "text/x-python",
   "name": "python",
   "nbconvert_exporter": "python",
   "pygments_lexer": "ipython3",
   "version": "3.11.4"
  },
  "vscode": {
   "interpreter": {
    "hash": "ff86aea76228f0881c91a29f9b471af60dcc0ee7f415accb27f2e08c6a88df9f"
   }
  }
 },
 "nbformat": 4,
 "nbformat_minor": 5
}
