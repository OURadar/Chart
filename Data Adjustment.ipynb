{
 "cells": [
  {
   "cell_type": "markdown",
   "metadata": {},
   "source": [
    "# Data Adjustment\n",
    "\n",
    "Need a new data module to read and write files"
   ]
  },
  {
   "cell_type": "code",
   "execution_count": null,
   "metadata": {},
   "outputs": [],
   "source": [
    "import os\n",
    "import datetime\n",
    "import numpy as np\n",
    "\n",
    "from netCDF4 import Dataset\n",
    "\n",
    "import chart"
   ]
  },
  {
   "cell_type": "code",
   "execution_count": null,
   "metadata": {},
   "outputs": [],
   "source": [
    "class Sweep:\n",
    "    def __init__(self, file=None):\n",
    "        self.file = file\n",
    "        if self.file:\n",
    "            self.read()\n",
    "\n",
    "    def read(self):\n",
    "        with Dataset(self.file, mode='r') as nc:\n",
    "            name = nc.getncattr('TypeName')\n",
    "            self.elev = np.array(nc.variables['Elevation'][:], dtype=np.float32)\n",
    "            self.azim = np.array(nc.variables['Azimuth'][:], dtype=np.float32)\n",
    "            self.gatewidths = np.array(nc.variables['GateWidth'][:], dtype=np.float32)\n",
    "            self.gatewidth = self.gatewidths[0]\n",
    "            self.values = np.array(nc.variables[name][:], dtype=np.float32)\n",
    "            self.values[self.values < -90] = np.nan\n",
    "            self.longitude = nc.getncattr('Longitude')\n",
    "            self.latitude = nc.getncattr('Latitude')\n",
    "            self.sweepElev = nc.getncattr('Elevation')\n",
    "            self.sweepTime = nc.getncattr('Time')\n",
    "            self.symbol = self.file.split('.')[-2].split('-')[-1]\n",
    "\n",
    "    def rangeInKilometers(self):\n",
    "        r = 1.0e-3 * np.arange(self.values.shape[1]) * self.gatewidth\n",
    "        return r\n",
    "    \n",
    "    def azimuthInRadians(self):\n",
    "        a = np.deg2rad(self.azim)\n",
    "        return a\n",
    "\n",
    "    def titleString(self):\n",
    "        t = datetime.datetime.utcfromtimestamp(self.sweepTime)\n",
    "        timestr = t.strftime('%Y/%m/%d %H:%M:%S')\n",
    "        title = f'{timestr} UTC  EL: {self.sweepElev:.2f}°'\n",
    "        return title"
   ]
  },
  {
   "cell_type": "code",
   "execution_count": null,
   "metadata": {},
   "outputs": [],
   "source": [
    "file = 'blob/PX-20170220-050706-E2.4-Z.nc'\n",
    "sweep = Sweep(file)"
   ]
  },
  {
   "cell_type": "code",
   "execution_count": null,
   "metadata": {},
   "outputs": [],
   "source": [
    "overlay = chart.atlas.Overlay((sweep.longitude, sweep.latitude))"
   ]
  },
  {
   "cell_type": "code",
   "execution_count": null,
   "metadata": {},
   "outputs": [],
   "source": [
    "radii = np.concatenate(([1.0], np.arange(10.0, 61.0, 10.0)))\n",
    "overlay.setRingRadii(radii)\n",
    "overlay.load()"
   ]
  },
  {
   "cell_type": "code",
   "execution_count": null,
   "metadata": {},
   "outputs": [],
   "source": [
    "r = sweep.rangeInKilometers()\n",
    "a = sweep.azimuthInRadians()\n",
    "title = sweep.titleString()\n",
    "symbol = sweep.symbol"
   ]
  },
  {
   "cell_type": "code",
   "execution_count": null,
   "metadata": {},
   "outputs": [],
   "source": [
    "ppi = chart.chart.Image(a, r, sweep.values, style=symbol, overlay=overlay, title=title, figsize=(800, 640), maxrange=50.0)"
   ]
  },
  {
   "cell_type": "code",
   "execution_count": null,
   "metadata": {},
   "outputs": [],
   "source": [
    "ppi.image()"
   ]
  },
  {
   "cell_type": "code",
   "execution_count": null,
   "metadata": {},
   "outputs": [],
   "source": []
  }
 ],
 "metadata": {
  "interpreter": {
   "hash": "0da28d54a6db294d483e03b204799a530a64da716cc762e5b1442f9336593b7b"
  },
  "kernelspec": {
   "display_name": "Python 3.8.11 64-bit ('3.8.11')",
   "language": "python",
   "name": "python3"
  },
  "language_info": {
   "codemirror_mode": {
    "name": "ipython",
    "version": 3
   },
   "file_extension": ".py",
   "mimetype": "text/x-python",
   "name": "python",
   "nbconvert_exporter": "python",
   "pygments_lexer": "ipython3",
   "version": "3.8.11"
  },
  "orig_nbformat": 4
 },
 "nbformat": 4,
 "nbformat_minor": 2
}
