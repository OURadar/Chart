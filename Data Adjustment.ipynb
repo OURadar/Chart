{
 "cells": [
  {
   "cell_type": "markdown",
   "metadata": {},
   "source": [
    "# Data Adjustment\n",
    "\n",
    "Need a new data module to read and write files"
   ]
  },
  {
   "cell_type": "code",
   "execution_count": 1,
   "metadata": {},
   "outputs": [
    {
     "ename": "ModuleNotFoundError",
     "evalue": "No module named 'shapely'",
     "output_type": "error",
     "traceback": [
      "\u001b[0;31m---------------------------------------------------------------------------\u001b[0m",
      "\u001b[0;31mModuleNotFoundError\u001b[0m                       Traceback (most recent call last)",
      "\u001b[1;32m/Users/boonleng/Developer/chart/Data Adjustment.ipynb Cell 2'\u001b[0m in \u001b[0;36m<module>\u001b[0;34m\u001b[0m\n\u001b[1;32m      <a href='vscode-notebook-cell:/Users/boonleng/Developer/chart/Data%20Adjustment.ipynb#ch0000004?line=2'>3</a>\u001b[0m \u001b[39mimport\u001b[39;00m \u001b[39mnumpy\u001b[39;00m \u001b[39mas\u001b[39;00m \u001b[39mnp\u001b[39;00m\n\u001b[1;32m      <a href='vscode-notebook-cell:/Users/boonleng/Developer/chart/Data%20Adjustment.ipynb#ch0000004?line=4'>5</a>\u001b[0m \u001b[39mfrom\u001b[39;00m \u001b[39mnetCDF4\u001b[39;00m \u001b[39mimport\u001b[39;00m Dataset\n\u001b[0;32m----> <a href='vscode-notebook-cell:/Users/boonleng/Developer/chart/Data%20Adjustment.ipynb#ch0000004?line=6'>7</a>\u001b[0m \u001b[39mimport\u001b[39;00m \u001b[39mchart\u001b[39;00m\n",
      "File \u001b[0;32m~/Developer/chart/chart/__init__.py:3\u001b[0m, in \u001b[0;36m<module>\u001b[0;34m\u001b[0m\n\u001b[1;32m      <a href='file:///~/Developer/chart/chart/__init__.py?line=0'>1</a>\u001b[0m \u001b[39mfrom\u001b[39;00m \u001b[39m.\u001b[39;00m\u001b[39mbase\u001b[39;00m \u001b[39mimport\u001b[39;00m \u001b[39m*\u001b[39m\n\u001b[0;32m----> <a href='file:///~/Developer/chart/chart/__init__.py?line=2'>3</a>\u001b[0m \u001b[39mfrom\u001b[39;00m \u001b[39m.\u001b[39;00m \u001b[39mimport\u001b[39;00m atlas\n\u001b[1;32m      <a href='file:///~/Developer/chart/chart/__init__.py?line=3'>4</a>\u001b[0m \u001b[39mfrom\u001b[39;00m \u001b[39m.\u001b[39;00m \u001b[39mimport\u001b[39;00m chart\n",
      "File \u001b[0;32m~/Developer/chart/chart/atlas.py:7\u001b[0m, in \u001b[0;36m<module>\u001b[0;34m\u001b[0m\n\u001b[1;32m      <a href='file:///~/Developer/chart/chart/atlas.py?line=4'>5</a>\u001b[0m \u001b[39mimport\u001b[39;00m \u001b[39mpandas\u001b[39;00m\n\u001b[1;32m      <a href='file:///~/Developer/chart/chart/atlas.py?line=5'>6</a>\u001b[0m \u001b[39mimport\u001b[39;00m \u001b[39mzipfile\u001b[39;00m\n\u001b[0;32m----> <a href='file:///~/Developer/chart/chart/atlas.py?line=6'>7</a>\u001b[0m \u001b[39mimport\u001b[39;00m \u001b[39mshapely\u001b[39;00m\n\u001b[1;32m      <a href='file:///~/Developer/chart/chart/atlas.py?line=7'>8</a>\u001b[0m \u001b[39mimport\u001b[39;00m \u001b[39mgeopandas\u001b[39;00m\n\u001b[1;32m      <a href='file:///~/Developer/chart/chart/atlas.py?line=8'>9</a>\u001b[0m \u001b[39mimport\u001b[39;00m \u001b[39mmatplotlib\u001b[39;00m\n",
      "\u001b[0;31mModuleNotFoundError\u001b[0m: No module named 'shapely'"
     ]
    }
   ],
   "source": [
    "import os\n",
    "import datetime\n",
    "import numpy as np\n",
    "\n",
    "from netCDF4 import Dataset\n",
    "\n",
    "import chart"
   ]
  },
  {
   "cell_type": "code",
   "execution_count": null,
   "metadata": {},
   "outputs": [],
   "source": [
    "class Sweep:\n",
    "    def __init__(self, file=None):\n",
    "        self.file = file\n",
    "        if self.file:\n",
    "            self.read()\n",
    "\n",
    "    def read(self):\n",
    "        with Dataset(self.file, mode='r') as nc:\n",
    "            name = nc.getncattr('TypeName')\n",
    "            self.elev = np.array(nc.variables['Elevation'][:], dtype=np.float32)\n",
    "            self.azim = np.array(nc.variables['Azimuth'][:], dtype=np.float32)\n",
    "            self.gatewidths = np.array(nc.variables['GateWidth'][:], dtype=np.float32)\n",
    "            self.gatewidth = self.gatewidths[0]\n",
    "            self.values = np.array(nc.variables[name][:], dtype=np.float32)\n",
    "            self.values[self.values < -90] = np.nan\n",
    "            self.longitude = nc.getncattr('Longitude')\n",
    "            self.latitude = nc.getncattr('Latitude')\n",
    "            self.sweepElev = nc.getncattr('Elevation')\n",
    "            self.sweepTime = nc.getncattr('Time')\n",
    "            self.symbol = self.file.split('.')[-2].split('-')[-1]"
   ]
  }
 ],
 "metadata": {
  "interpreter": {
   "hash": "0da28d54a6db294d483e03b204799a530a64da716cc762e5b1442f9336593b7b"
  },
  "kernelspec": {
   "display_name": "Python 3.8.11 64-bit ('3.8.11')",
   "language": "python",
   "name": "python3"
  },
  "language_info": {
   "codemirror_mode": {
    "name": "ipython",
    "version": 3
   },
   "file_extension": ".py",
   "mimetype": "text/x-python",
   "name": "python",
   "nbconvert_exporter": "python",
   "pygments_lexer": "ipython3",
   "version": "3.8.11"
  },
  "orig_nbformat": 4
 },
 "nbformat": 4,
 "nbformat_minor": 2
}
